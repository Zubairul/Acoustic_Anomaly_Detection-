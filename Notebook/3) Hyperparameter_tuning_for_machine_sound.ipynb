{
 "cells": [
  {
   "cell_type": "code",
   "execution_count": 1,
   "id": "37fa4676",
   "metadata": {},
   "outputs": [],
   "source": [
    "import numpy as np\n",
    "import pandas as pd\n",
    "from sklearn.preprocessing import StandardScaler\n",
    "\n",
    "import sys\n",
    "sys.path.append('../')\n",
    "from Code1.Train_Test_Data import train_test \n",
    "from Code1.ZPlot import plot_Hyp_Parameter\n",
    "from Code1.plotting_functions import get_figure_win \n"
   ]
  },
  {
   "cell_type": "markdown",
   "id": "abb7092f",
   "metadata": {},
   "source": [
    "# Train Test Split"
   ]
  },
  {
   "cell_type": "code",
   "execution_count": 2,
   "id": "82afc74f",
   "metadata": {},
   "outputs": [],
   "source": [
    "scaler = StandardScaler()\n",
    "Name='j'\n",
    "Train='j'\n",
    "Test = 'j2'\n",
    "Target='Status'\n",
    "X_train,y_train,machine_ids_train, X_test,y_test,machine_ids_test = train_test(Train,Test,Target)\n",
    "scaler.fit(X_train)\n",
    "X_train = scaler.transform(X_train)\n",
    "X_test = scaler.transform(X_test)\n"
   ]
  },
  {
   "cell_type": "code",
   "execution_count": 3,
   "id": "3b770cfb",
   "metadata": {},
   "outputs": [],
   "source": [
    "y_train[:]=1"
   ]
  },
  {
   "cell_type": "markdown",
   "id": "8adf8f8a",
   "metadata": {},
   "source": [
    "# SVM"
   ]
  },
  {
   "cell_type": "code",
   "execution_count": 4,
   "id": "ec38a785",
   "metadata": {},
   "outputs": [],
   "source": [
    "from sklearn import metrics\n",
    "from sklearn.svm import OneClassSVM as SV"
   ]
  },
  {
   "cell_type": "code",
   "execution_count": 5,
   "id": "423a9898",
   "metadata": {
    "scrolled": true
   },
   "outputs": [
    {
     "data": {
      "image/png": "[encoded data removed]",
      "text/plain": [
       "<Figure size 481.89x170.079 with 2 Axes>"
      ]
     },
     "metadata": {
      "needs_background": "light"
     },
     "output_type": "display_data"
    }
   ],
   "source": [
    "ylabel=\"gamma\"\n",
    "Set_y=np.logspace(-1,0, 9)                    #Stored  Y axis values\n",
    "\n",
    "\n",
    "xlabel=\"nu\"\n",
    "Set_x=np.arange (.1,1,.1)                     #Stored  X axis values\n",
    "\n",
    "ROC= np.zeros([Set_y.size,Set_x.size])     # Array creation for storing ROC Values\n",
    "\n",
    "Max=0\n",
    "for i in Set_x:\n",
    "    for j in Set_y:\n",
    "        \n",
    "        SVM= SV(nu=i,kernel=\"rbf\",gamma=j)        # One class SVM has been defined with variable hyperperameter\n",
    "        SVM.fit(X_train)                          # One class SVM has been fited with training data\n",
    "        \n",
    "        scores= SVM.decision_function(X_test)*(-1)     # Anomaly Scores for X_test\n",
    "\n",
    "        # Maintained the ROC matrix index to store ROC values\n",
    "        ROC[np.where(Set_y==j),np.where(Set_x==i)] = metrics.roc_auc_score(y_test, scores)\n",
    "        \n",
    "        #taking hyperparameter that give maximum ROC_AUC_Score\n",
    "        if ROC[np.where(Set_y == j),np.where(Set_x == i)]>Max:\n",
    "            \n",
    "            Max=ROC[np.where(Set_y == j),np.where(Set_x == i)]\n",
    "            (a,b)=(i,j) \n",
    "\n",
    "# Plot creation\n",
    "plot_Hyp_Parameter(Name,xlabel,ylabel,Set_x,Set_y,ROC,a,b)                   "
   ]
  },
  {
   "cell_type": "markdown",
   "id": "cc589f68",
   "metadata": {},
   "source": [
    "# NNearest Neighbors"
   ]
  },
  {
   "cell_type": "code",
   "execution_count": 6,
   "id": "2ca85a5e",
   "metadata": {},
   "outputs": [],
   "source": [
    "from sklearn.neighbors import NearestNeighbors"
   ]
  },
  {
   "cell_type": "code",
   "execution_count": 7,
   "id": "a7059862",
   "metadata": {},
   "outputs": [
    {
     "data": {
      "image/png": "[encoded data removed]",
      "text/plain": [
       "<Figure size 481.89x170.079 with 1 Axes>"
      ]
     },
     "metadata": {
      "needs_background": "light"
     },
     "output_type": "display_data"
    }
   ],
   "source": [
    "Max=0\n",
    "ROC= []\n",
    "\n",
    "xlabel=\"n_neighbors\"\n",
    "Set_x=np.arange (1,len(X_train) ,1)                     #Stored  X axis values\n",
    "\n",
    "ylabel=\"ROC_AUC_Score\"\n",
    "Set_y=np.arange (0,1.1,.1)                    #Stored  y axis values\n",
    "\n",
    "for i in Set_x:                      # For loop in order to get roc value for each n_neighbors\n",
    "    \n",
    "    NearestN = NearestNeighbors(n_neighbors=i)\n",
    "    NearestN.fit(X_train)\n",
    " \n",
    "    distances, indices = NearestN.kneighbors(X_test)\n",
    "    scores=distances.mean(axis=1)\n",
    "\n",
    "    ROC.append(metrics.roc_auc_score(y_test, scores))#Stored ROC accuracy score\n",
    "    NROC_val=metrics.roc_auc_score(y_test, scores)  #Get current roc value\n",
    "    \n",
    "    if NROC_val>Max: \n",
    "        Max=NROC_val \n",
    "        a=i\n",
    "\n",
    "plot_Hyp_Parameter(Name,xlabel,ylabel,Set_x,Set_y,ROC,a,c=Max)  "
   ]
  },
  {
   "cell_type": "markdown",
   "id": "57839dc3",
   "metadata": {},
   "source": [
    "# PCA"
   ]
  },
  {
   "cell_type": "code",
   "execution_count": 8,
   "id": "f4602b80",
   "metadata": {},
   "outputs": [],
   "source": [
    "import matplotlib.cm as cm\n",
    "from sklearn.decomposition import PCA"
   ]
  },
  {
   "cell_type": "code",
   "execution_count": 9,
   "id": "8efc08fc",
   "metadata": {},
   "outputs": [
    {
     "data": {
      "image/png": "[encoded data removed]",
      "text/plain": [
       "<Figure size 481.89x170.079 with 1 Axes>"
      ]
     },
     "metadata": {
      "needs_background": "light"
     },
     "output_type": "display_data"
    }
   ],
   "source": [
    "Max=0\n",
    "ROC= []\n",
    "\n",
    "xlabel=\"n_components\"\n",
    "Set_x=np.arange (1,103,1)                     #Stored  X axis values\n",
    "\n",
    "ylabel=\"ROC_AUC_Score\"\n",
    "Set_y=np.arange (0,1.1,.1) \n",
    "\n",
    "for i in Set_x:                      # For loop in order to get roc value for each nP\n",
    "    \n",
    "    pca = PCA(n_components=i,random_state=1) \n",
    "    pca.fit(X_train)\n",
    "    \n",
    "    \n",
    "   \n",
    "    pca2_proj_back=pca.inverse_transform(pca.transform(X_test))         #Applying inversePCA on each point of the rectangular grid\n",
    "    diff = (pca2_proj_back-np.c_[X_test]) **2                   #Calculating the difference betwen pca2_results and pca2_proj_back\n",
    "                                       \n",
    "    scores = diff.mean(axis=1 ) \n",
    "\n",
    "    ROC.append(metrics.roc_auc_score(y_test, scores))          #Stored ROC accuracy score\n",
    "\n",
    "    \n",
    "    NROC_val=metrics.roc_auc_score(y_test, scores)            #Taking max ROC value\n",
    "    if NROC_val>Max: \n",
    "        Max=NROC_val \n",
    "        a=i\n",
    "           \n",
    "plot_Hyp_Parameter(\"PCA\",xlabel,ylabel,Set_x,Set_y,ROC,a,c=Max)   "
   ]
  },
  {
   "cell_type": "markdown",
   "id": "b7e2a6e9",
   "metadata": {},
   "source": [
    "# Isolation Forest"
   ]
  },
  {
   "cell_type": "code",
   "execution_count": 10,
   "id": "dcb1fe71",
   "metadata": {},
   "outputs": [],
   "source": [
    "from sklearn.ensemble import IsolationForest\n"
   ]
  },
  {
   "cell_type": "code",
   "execution_count": 25,
   "id": "709e1201",
   "metadata": {
    "scrolled": true
   },
   "outputs": [
    {
     "data": {
      "image/png": "[encoded data removed]",
      "text/plain": [
       "<Figure size 481.89x170.079 with 2 Axes>"
      ]
     },
     "metadata": {
      "needs_background": "light"
     },
     "output_type": "display_data"
    }
   ],
   "source": [
    "ylabel=\"max_samples\"\n",
    "Set_y=np.arange (2,9,1)                    #Stored  X axis values\n",
    "\n",
    "\n",
    "xlabel=\"n_estimators\"\n",
    "Set_x=np.arange(2,15,1)                     #Stored  Y axis values\n",
    "\n",
    "ROC= np.zeros([Set_y.size,Set_x.size])     # Array creation for storing ROC Values\n",
    "\n",
    "Max=0\n",
    "for i in Set_x:\n",
    "    for j in Set_y:\n",
    "        \n",
    "        Iso= IsolationForest(n_estimators=i,max_samples =j,random_state=0)   # IsolationForest has been defined with variable hyperperameter\n",
    "        Iso.fit(X_train)                                                     # IsolationForest has been fited with training data\n",
    "        \n",
    "        scores= Iso.decision_function(X_test)*(-1)                                # Anomaly Scores for X_test\n",
    "\n",
    "        # Maintained the ROC matrix index to store ROC values\n",
    "        ROC[np.where(Set_y==j),np.where(Set_x==i)] = metrics.roc_auc_score(y_test, scores)\n",
    "        \n",
    "        #taking hyperparameter that give maximum ROC_AUC_Score\n",
    "        if ROC[np.where(Set_y == j),np.where(Set_x == i)]>Max:\n",
    "            \n",
    "            Max=ROC[np.where(Set_y == j),np.where(Set_x == i)]\n",
    "            (a,b)=(i,j) \n",
    "\n",
    "# Plot creation\n",
    "plot_Hyp_Parameter(Name,xlabel,ylabel,Set_x,Set_y,ROC,a,b)                   "
   ]
  },
  {
   "cell_type": "markdown",
   "id": "ca64f0cb",
   "metadata": {},
   "source": [
    "# PCA with Nearest Neighbors"
   ]
  },
  {
   "cell_type": "code",
   "execution_count": null,
   "id": "9fcbf5cb",
   "metadata": {},
   "outputs": [],
   "source": [
    "\n",
    "ylabel=\"n_neighbors\"\n",
    "Set_y=np.arange (1,len(X_train) ,1)                     #Stored  X axis values\n",
    "\n",
    "\n",
    "xlabel=\"n_components\"\n",
    "Set_x=np.arange (1,30,1)                     #started from 103 then found 10 so made it max= 15\n",
    "\n",
    "ROC= np.zeros([Set_y.size,Set_x.size])     # Array creation for storing ROC Values\n",
    "\n",
    "Max=0\n",
    "for i in Set_x:\n",
    "    for j in Set_y:\n",
    "        \n",
    "        pca = PCA(n_components=i) \n",
    "        X_train1=pca.fit_transform(X_train)\n",
    "        X_test1=pca.transform(X_test)\n",
    "\n",
    "    \n",
    "\n",
    "        NearestN = NearestNeighbors(n_neighbors=j)\n",
    "        NearestN.fit(X_train1)\n",
    "\n",
    "        distances, indices = NearestN.kneighbors(X_test1)\n",
    "        scores_HB=distances.mean(axis=1)\n",
    "        # Maintained the ROC matrix index to store ROC values\n",
    "        ROC[np.where(Set_y==j),np.where(Set_x==i)] = metrics.roc_auc_score(y_test, scores_HB)\n",
    "        \n",
    "        #taking hyperparameter that give maximum ROC_AUC_Score\n",
    "        if ROC[np.where(Set_y == j),np.where(Set_x == i)]>Max:\n",
    "            \n",
    "            Max=ROC[np.where(Set_y == j),np.where(Set_x == i)]\n",
    "            (a,b)=(i,j) \n",
    "\n",
    "# Plot creation\n",
    "plot_Hyp_Parameter(Name,xlabel,ylabel,Set_x,Set_y,ROC,a,b)        "
   ]
  },
  {
   "cell_type": "code",
   "execution_count": null,
   "id": "3a1e24a6",
   "metadata": {},
   "outputs": [],
   "source": [
    "# LOF"
   ]
  },
  {
   "cell_type": "code",
   "execution_count": null,
   "id": "f3540603",
   "metadata": {},
   "outputs": [],
   "source": []
  },
  {
   "cell_type": "code",
   "execution_count": 9,
   "id": "cf337a32",
   "metadata": {},
   "outputs": [
    {
     "data": {
      "image/png": "[encoded data removed]",
      "text/plain": [
       "<Figure size 481.89x170.079 with 2 Axes>"
      ]
     },
     "metadata": {
      "needs_background": "light"
     },
     "output_type": "display_data"
    }
   ],
   "source": [
    "from sklearn.neighbors import LocalOutlierFactor\n",
    "xlabel=\"contamination\"\n",
    "Set_x=np.arange (0.01,0.5,.01)                    #Stored  X axis values\n",
    "\n",
    "\n",
    "ylabel=\"n_neighbors\"\n",
    "Set_y=np.arange(2,7,1)                     #Stored  Y axis values\n",
    "\n",
    "ROC= np.zeros([Set_y.size,Set_x.size])     # Array creation for storing ROC Values\n",
    "\n",
    "Max=0\n",
    "for i in Set_x:\n",
    "    for j in Set_y:\n",
    "        \n",
    "        LO= LocalOutlierFactor(n_neighbors=j, contamination=i,novelty=\"true\")   # IsolationForest has been defined with variable hyperperameter\n",
    "        LO.fit(X_train)                                                     # IsolationForest has been fited with training data\n",
    "        \n",
    "        scores= LO.decision_function(X_test)*(-1)                                # Anomaly Scores for X_test\n",
    "\n",
    "        # Maintained the ROC matrix index to store ROC values\n",
    "        ROC[np.where(Set_y==j),np.where(Set_x==i)] = metrics.roc_auc_score(y_test, scores)\n",
    "        \n",
    "        #taking hyperparameter that give maximum ROC_AUC_Score\n",
    "        if ROC[np.where(Set_y == j),np.where(Set_x == i)]>Max:\n",
    "            \n",
    "            Max=ROC[np.where(Set_y == j),np.where(Set_x == i)]\n",
    "            (a,b)=(i,j) \n",
    "\n",
    "# Plot creation\n",
    "plot_Hyp_Parameter(Name,xlabel,ylabel,Set_x,Set_y,ROC,a,b)       \n"
   ]
  },
  {
   "cell_type": "code",
   "execution_count": 10,
   "id": "7639f608",
   "metadata": {},
   "outputs": [],
   "source": [
    "#PCA on LOF"
   ]
  },
  {
   "cell_type": "code",
   "execution_count": 17,
   "id": "c88d3917",
   "metadata": {},
   "outputs": [],
   "source": [
    "import matplotlib.cm as cm\n",
    "from sklearn.decomposition import PCA\n",
    "from sklearn.neighbors import LocalOutlierFactor"
   ]
  },
  {
   "cell_type": "code",
   "execution_count": 20,
   "id": "c63bc776",
   "metadata": {},
   "outputs": [
    {
     "data": {
      "image/png": "[encoded data removed]",
      "text/plain": [
       "<Figure size 481.89x170.079 with 2 Axes>"
      ]
     },
     "metadata": {
      "needs_background": "light"
     },
     "output_type": "display_data"
    }
   ],
   "source": [
    "ylabel=\"n-neighbors\"\n",
    "Set_y= np.arange (2,13,1)                  #Stored  X axis values\n",
    "ulabel=\"contamination\"\n",
    "Set_u=  np.arange (0.01,0.5,.01)   \n",
    "\n",
    "xlabel=\"n_components\"\n",
    "Set_x=np.arange (1,60,1)                     #Stored  X axis values\n",
    "\n",
    "ROC= np.zeros([Set_y.size,Set_x.size])     # Array creation for storing ROC Values\n",
    "\n",
    "Max=0\n",
    "for i in Set_x:\n",
    "    for j in Set_y:\n",
    "\n",
    "\n",
    "        pca = PCA(n_components=i,random_state=1) \n",
    "        X_train1=pca.fit_transform(X_train)\n",
    "        X_test1=pca.transform(X_test)\n",
    "\n",
    "\n",
    "\n",
    "        LO= LocalOutlierFactor(n_neighbors=j, contamination=0.1,novelty=\"true\")   # IsolationForest has been defined with variable hyperperameter\n",
    "        LO.fit(X_train1)                                                     # IsolationForest has been fited with training data\n",
    "\n",
    "        scores= LO.decision_function(X_test1)*(-1)                                # Anomaly Scores for X_test\n",
    "\n",
    "        # Maintained the ROC matrix index to store ROC values\n",
    "        ROC[np.where(Set_y==j),np.where(Set_x==i)] = metrics.roc_auc_score(y_test, scores)\n",
    "        \n",
    "        #taking hyperparameter that give maximum ROC_AUC_Score\n",
    "        if ROC[np.where(Set_y == j),np.where(Set_x == i)]>Max:\n",
    "            \n",
    "            Max=ROC[np.where(Set_y == j),np.where(Set_x == i)]\n",
    "            (a,b)=(i,j) \n",
    "\n",
    "# Plot creation\n",
    "plot_Hyp_Parameter(Name,xlabel,ylabel,Set_x,Set_y,ROC,a,b)\n"
   ]
  },
  {
   "cell_type": "code",
   "execution_count": 14,
   "id": "cdd85077",
   "metadata": {},
   "outputs": [
    {
     "data": {
      "image/png": "[encoded data removed]",
      "text/plain": [
       "<Figure size 481.89x170.079 with 2 Axes>"
      ]
     },
     "metadata": {
      "needs_background": "light"
     },
     "output_type": "display_data"
    }
   ],
   "source": [
    "ylabel=\"n-neighbors\"\n",
    "Set_y= np.arange (2,9,1)                  #Stored  X axis values\n",
    "ulabel=\"contamination\"\n",
    "Set_u=  np.arange (0.01,0.5,.01)   \n",
    "\n",
    "xlabel=\"n_components\"\n",
    "Set_x=np.arange (1,40,1)                     #Stored  X axis values\n",
    "\n",
    "ROC= np.zeros([Set_y.size,Set_x.size])     # Array creation for storing ROC Values\n",
    "\n",
    "Max=0\n",
    "for i in Set_x:\n",
    "    for j in Set_y:\n",
    "\n",
    "\n",
    "        pca = PCA(n_components=i,random_state=1) \n",
    "        X_train1=pca.fit_transform(X_train)\n",
    "        X_test1=pca.transform(X_test)\n",
    "\n",
    "\n",
    "\n",
    "        LO= LocalOutlierFactor(n_neighbors=j, contamination=0.01,novelty=\"true\")   # IsolationForest has been defined with variable hyperperameter\n",
    "        LO.fit(X_train1)                                                     # IsolationForest has been fited with training data\n",
    "\n",
    "        scores= LO.decision_function(X_test1)*(-1)                                # Anomaly Scores for X_test\n",
    "\n",
    "        # Maintained the ROC matrix index to store ROC values\n",
    "        ROC[np.where(Set_y==j),np.where(Set_x==i)] = metrics.roc_auc_score(y_test, scores)\n",
    "        \n",
    "        #taking hyperparameter that give maximum ROC_AUC_Score\n",
    "        if ROC[np.where(Set_y == j),np.where(Set_x == i)]>Max:\n",
    "            \n",
    "            Max=ROC[np.where(Set_y == j),np.where(Set_x == i)]\n",
    "            (a,b)=(i,j) \n",
    "\n",
    "# Plot creation\n",
    "plot_Hyp_Parameter(Name,xlabel,ylabel,Set_x,Set_y,ROC,a,b)\n"
   ]
  },
  {
   "cell_type": "code",
   "execution_count": null,
   "id": "9622b53e",
   "metadata": {},
   "outputs": [],
   "source": [
    "# SHrunk"
   ]
  },
  {
   "cell_type": "code",
   "execution_count": 46,
   "id": "2ffc4802",
   "metadata": {},
   "outputs": [],
   "source": [
    "from sklearn.model_selection import ParameterGrid\n",
    "from sklearn.svm import OneClassSVM as SV\n",
    "grid = {'gamma' : np.logspace(-9, 3, 13),\n",
    "        'nu' : np.linspace(0.01, 0.99, 99)}\n",
    "clf=SV(kernel = \"rbf\")\n",
    "for z in ParameterGrid(grid):\n",
    "    clf.set_params(**z)\n",
    "    clf.fit(X=X_train)\n",
    "    "
   ]
  },
  {
   "cell_type": "code",
   "execution_count": null,
   "id": "86905143",
   "metadata": {},
   "outputs": [],
   "source": [
    "#plt.hist(s,color=\"r\")\n",
    "plt.hist(s1,color=\"k\")"
   ]
  },
  {
   "cell_type": "code",
   "execution_count": null,
   "id": "d7a7da01",
   "metadata": {},
   "outputs": [],
   "source": [
    "Max=0\n",
    "ROC= []\n",
    "\n",
    "zlabel=\"n_neighbors\"\n",
    "Set_z=np.arange (1,len(X_train) ,1)                     #Stored  X axis values\n",
    "\n",
    "xlabel=\"n_components\"\n",
    "Set_x=np.arange (1,103,1)                     #Stored  X axis values\n",
    "\n",
    "ylabel=\"ROC_AUC_Score\"\n",
    "Set_y=np.arange (0,1.1,.1) \n",
    "\n",
    "for i in Set_x:                      # For loop in order to get roc value for each nP\n",
    "    \n",
    "    for j in Set_z:                      # For loop in order to get roc value for each n_neighbors\n",
    "        pca = PCA(n_components=i) \n",
    "        pca.fit(X_train)\n",
    "\n",
    "\n",
    "\n",
    "        pca2_proj_back=pca.inverse_transform(pca.transform(X_test))         #Applying inversePCA on each point of the rectangular grid\n",
    "\n",
    "    \n",
    "        NearestN = NearestNeighbors(n_neighbors=j)\n",
    "        NearestN.fit(X_train)\n",
    "\n",
    "        distances, indices = NearestN.kneighbors(pca2_proj_back)\n",
    "        scores=(-1)*distances.mean(axis=1)\n",
    "\n",
    "        \n",
    "        NROC_val=metrics.roc_auc_score(y_test, scores)  #Get current roc value\n",
    "\n",
    "        if NROC_val>Max: \n",
    "            Max=NROC_val \n",
    "            a=i\n",
    "            b=j\n",
    "      \n",
    "\n",
    "print (Max,a,b)"
   ]
  },
  {
   "cell_type": "code",
   "execution_count": null,
   "id": "1271beca",
   "metadata": {},
   "outputs": [],
   "source": [
    "# Applying PCA on nearest neighbors"
   ]
  },
  {
   "cell_type": "code",
   "execution_count": null,
   "id": "73ae05f9",
   "metadata": {},
   "outputs": [],
   "source": [
    "Max=0\n",
    "ROC= []\n",
    "\n",
    "zlabel=\"n_neighbors\"\n",
    "Set_z=np.arange (1,len(X_train) ,1)                     #Stored  X axis values\n",
    "\n",
    "xlabel=\"n_components\"\n",
    "Set_x=np.arange (1,103,1)                     #Stored  X axis values\n",
    "\n",
    "ylabel=\"ROC_AUC_Score\"\n",
    "Set_y=np.arange (0,1.1,.1) \n",
    "\n",
    "for i in Set_x:                      # For loop in order to get roc value for each nP\n",
    "    \n",
    "    for j in Set_z:                      # For loop in order to get roc value for each n_neighbors\n",
    "        pca = PCA(n_components=i) \n",
    "        X_train1=pca.fit_transform(X_train)\n",
    "        X_test1=pca.transform(X_test)\n",
    "\n",
    "\n",
    "\n",
    "        pca2_proj_back=(X_test1)         #Applying inversePCA on each point of the rectangular grid\n",
    "\n",
    "    \n",
    "        NearestN = NearestNeighbors(n_neighbors=j)\n",
    "        NearestN.fit(X_train1)\n",
    "\n",
    "        distances, indices = NearestN.kneighbors(pca2_proj_back)\n",
    "        scores=(-1)*distances.mean(axis=1)\n",
    "\n",
    "        \n",
    "        NROC_val=metrics.roc_auc_score(y_test, scores)  #Get current roc value\n",
    "\n",
    "        if NROC_val>Max: \n",
    "            Max=NROC_val \n",
    "            a=i\n",
    "            b=j\n",
    "      \n",
    "\n",
    "print (Max,a,b)"
   ]
  },
  {
   "cell_type": "markdown",
   "id": "58013dfa",
   "metadata": {},
   "source": [
    "# Applying PCA in SVM"
   ]
  },
  {
   "cell_type": "code",
   "execution_count": null,
   "id": "d0137b02",
   "metadata": {},
   "outputs": [],
   "source": [
    "Max=0\n",
    "ROC= []\n",
    "\n",
    "ylabel=\"gamma\"\n",
    "Set_y=np.logspace(-1,0, 9)                    #Stored  Y axis values\n",
    "\n",
    "\n",
    "zlabel=\"nu\"\n",
    "Set_z=np.arange (.1,1,.1)                     #Stored  X axis values\n",
    "\n",
    "xlabel=\"n_components\"\n",
    "Set_x=np.arange (1,103,1)                     #Stored  X axis values\n",
    "\n",
    "\n",
    "for i in Set_x:                      # For loop in order to get roc value for each nP\n",
    "    for k in Set_z:\n",
    "        for j in Set_y:\n",
    "            pca = PCA(n_components=i) \n",
    "            X_train1=pca.fit_transform(X_train)\n",
    "            X_test1=pca.transform(X_test)\n",
    "\n",
    "\n",
    "            SVM= SV(nu=k,kernel=\"sigmoid\",gamma=j)        # One class SVM has been defined with variable hyperperameter\n",
    "            SVM.fit(X_train1)                          # One class SVM has been fited with training data\n",
    "\n",
    "            scores= SVM.decision_function(X_test1)     # Anomaly Scores for X_test\n",
    "\n",
    "            ROC.append(metrics.roc_auc_score(y_test, scores))#Stored ROC accuracy score\n",
    "            NROC_val=metrics.roc_auc_score(y_test, scores)  #Get current roc value\n",
    "\n",
    "            if NROC_val>Max: \n",
    "                Max=NROC_val \n",
    "                a=i\n",
    "                b=j\n",
    "                c=k\n",
    " \n",
    "\n",
    "print (Max,a,b,c)"
   ]
  },
  {
   "cell_type": "code",
   "execution_count": null,
   "id": "0c05387a",
   "metadata": {},
   "outputs": [],
   "source": [
    "Max"
   ]
  },
  {
   "cell_type": "code",
   "execution_count": null,
   "id": "c1d462fe",
   "metadata": {},
   "outputs": [],
   "source": [
    "0.731163708086785 2 0.1333521432163324 0.2"
   ]
  },
  {
   "cell_type": "code",
   "execution_count": null,
   "id": "11955a6f",
   "metadata": {},
   "outputs": [],
   "source": [
    "# Auto + SVM"
   ]
  },
  {
   "cell_type": "code",
   "execution_count": null,
   "id": "abb143a4",
   "metadata": {},
   "outputs": [],
   "source": [
    "Max=0\n",
    "ROC= []\n",
    "\n",
    "ylabel=\"gamma\"\n",
    "Set_y=np.logspace(-1,0, 9)                    #Stored  Y axis values\n",
    "\n",
    "\n",
    "zlabel=\"nu\"\n",
    "Set_z=np.arange (.1,1,.1)                     #Stored  X axis values\n",
    "\n",
    "xlabel=\"n_components\"\n",
    "Set_x=np.arange (1,103,1)                     #Stored  X axis values\n",
    "\n",
    "\n",
    "for i in Set_x:                      # For loop in order to get roc value for each nP\n",
    "    for k in Set_z:\n",
    "        for j in Set_y:\n",
    "            pca = PCA(n_components=i) \n",
    "            X_train=pca.fit_tranform(X_train)\n",
    "            X_test=pca.tranform(X_test)\n",
    "\n",
    "\n",
    "\n",
    "            pca2_proj_back=pca.inverse_transform(pca.transform(X_test))         #Applying inversePCA on each point of the rectangular grid\n",
    "\n",
    "\n",
    "            SVM= SV(nu=k,kernel=\"rbf\",gamma=j)        # One class SVM has been defined with variable hyperperameter\n",
    "            SVM.fit(X_train)                          # One class SVM has been fited with training data\n",
    "\n",
    "            scores= SVM.decision_function(pca2_proj_back)     # Anomaly Scores for X_test\n",
    "\n",
    "            ROC.append(metrics.roc_auc_score(y_test, scores))#Stored ROC accuracy score\n",
    "            NROC_val=metrics.roc_auc_score(y_test, scores)  #Get current roc value\n",
    "\n",
    "            if NROC_val>Max: \n",
    "                Max=NROC_val \n",
    "                a=i\n",
    "                b=j\n",
    "                c=k\n",
    " \n",
    "\n",
    "print (Max,a,b,c)"
   ]
  },
  {
   "cell_type": "code",
   "execution_count": null,
   "id": "688a6e24",
   "metadata": {},
   "outputs": [],
   "source": [
    "Max=0\n",
    "ROC= []\n",
    "\n",
    "ylabel=\"max_sample\"\n",
    "Set_y=np.arange (2,15,1)                    #Stored  Y axis values\n",
    "\n",
    "\n",
    "zlabel=\"N-estimator\"\n",
    "Set_z=np.arange(2,9,1)                     #Stored  X axis values\n",
    "\n",
    "xlabel=\"n_components\"\n",
    "Set_x=np.arange (1,103,1)                     #Stored  X axis values\n",
    "\n",
    "\n",
    "for i in Set_x:                      # For loop in order to get roc value for each nP\n",
    "    for k in Set_z:\n",
    "        for j in Set_y:\n",
    "            pca = PCA(n_components=i) \n",
    "            pca.fit(X_train)\n",
    "\n",
    "\n",
    "\n",
    "            Iso= IsolationForest(n_estimators=k,max_samples =j,random_state=0)   # IsolationForest has been defined with variable hyperperameter\n",
    "            Iso.fit(X_train)                                                     # IsolationForest has been fited with training data\n",
    "        \n",
    "            scores= (-1)*Iso.decision_function(X_test)                                # Anomaly Scores for X_test\n",
    "\n",
    "            ROC.append(metrics.roc_auc_score(y_test, scores))#Stored ROC accuracy score\n",
    "            NROC_val=metrics.roc_auc_score(y_test, scores)  #Get current roc value\n",
    "\n",
    "            if NROC_val>Max: \n",
    "                Max=NROC_val \n",
    "                a=i\n",
    "                b=j\n",
    "                c=k\n",
    " \n",
    "\n",
    "print (Max,a,b,c)"
   ]
  },
  {
   "cell_type": "code",
   "execution_count": null,
   "id": "f6a9d8af",
   "metadata": {},
   "outputs": [],
   "source": []
  }
 ],
 "metadata": {
  "kernelspec": {
   "display_name": "Python 3 (ipykernel)",
   "language": "python",
   "name": "python3"
  },
  "language_info": {
   "codemirror_mode": {
    "name": "ipython",
    "version": 3
   },
   "file_extension": ".py",
   "mimetype": "text/x-python",
   "name": "python",
   "nbconvert_exporter": "python",
   "pygments_lexer": "ipython3",
   "version": "3.9.7"
  }
 },
 "nbformat": 4,
 "nbformat_minor": 5
}
